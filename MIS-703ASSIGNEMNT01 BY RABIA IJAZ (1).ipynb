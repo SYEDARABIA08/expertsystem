{
 "cells": [
  {
   "cell_type": "code",
   "execution_count": 36,
   "id": "77e52e0f",
   "metadata": {},
   "outputs": [
    {
     "name": "stdout",
     "output_type": "stream",
     "text": [
      "123\n"
     ]
    }
   ],
   "source": [
    "# constants\n",
    "print(123) "
   ]
  },
  {
   "cell_type": "code",
   "execution_count": 3,
   "id": "796c1832",
   "metadata": {},
   "outputs": [
    {
     "name": "stdout",
     "output_type": "stream",
     "text": [
      "98.6\n"
     ]
    }
   ],
   "source": [
    "print(98.6) "
   ]
  },
  {
   "cell_type": "code",
   "execution_count": 4,
   "id": "0411a780",
   "metadata": {},
   "outputs": [
    {
     "name": "stdout",
     "output_type": "stream",
     "text": [
      "437.5\n"
     ]
    }
   ],
   "source": [
    "x1q3z9ocd\t=\t35.0\t\n",
    "x1q3z9afd\t=\t12.50\t\n",
    "x1q3p9afd\t=\tx1q3z9ocd\t* x1q3z9afd\n",
    "print(x1q3p9afd)\n",
    "\n"
   ]
  },
  {
   "cell_type": "markdown",
   "id": "3bea3493",
   "metadata": {},
   "source": [
    "hours = 35.0\n",
    "rate = 12.50\n",
    "pay = hours * rate\n",
    "print(pay)\n",
    "\n"
   ]
  },
  {
   "cell_type": "code",
   "execution_count": 35,
   "id": "f10bf611",
   "metadata": {},
   "outputs": [
    {
     "name": "stdout",
     "output_type": "stream",
     "text": [
      "4\n"
     ]
    }
   ],
   "source": [
    "# Numeric Expressions\n",
    "xx\t=\t2\t\n",
    "xx\t=\txx\t+ 2\n",
    "print(xx) "
   ]
  },
  {
   "cell_type": "code",
   "execution_count": 10,
   "id": "78fc31ef",
   "metadata": {},
   "outputs": [
    {
     "name": "stdout",
     "output_type": "stream",
     "text": [
      "5280\n"
     ]
    }
   ],
   "source": [
    "yy = 440 * 12\n",
    ">>> print(yy) "
   ]
  },
  {
   "cell_type": "code",
   "execution_count": 13,
   "id": "e5bee413",
   "metadata": {},
   "outputs": [
    {
     "name": "stdout",
     "output_type": "stream",
     "text": [
      "5.28\n"
     ]
    }
   ],
   "source": [
    "zz = yy / 1000\n",
    ">>> print(zz) "
   ]
  },
  {
   "cell_type": "code",
   "execution_count": 14,
   "id": "388c9086",
   "metadata": {},
   "outputs": [
    {
     "name": "stdout",
     "output_type": "stream",
     "text": [
      "3\n"
     ]
    }
   ],
   "source": [
    "jj = 23\n",
    ">>> kk = jj % 5\n",
    ">>> print(kk) "
   ]
  },
  {
   "cell_type": "code",
   "execution_count": 15,
   "id": "b76b11db",
   "metadata": {},
   "outputs": [
    {
     "name": "stdout",
     "output_type": "stream",
     "text": [
      "64\n"
     ]
    }
   ],
   "source": [
    "print(4 ** 3) "
   ]
  },
  {
   "cell_type": "code",
   "execution_count": 38,
   "id": "12f32afb",
   "metadata": {},
   "outputs": [
    {
     "name": "stdout",
     "output_type": "stream",
     "text": [
      "5\n"
     ]
    }
   ],
   "source": [
    "# What Does “Type” Mean?\n",
    "ddd = 1 + 4\n",
    "print(ddd) \n"
   ]
  },
  {
   "cell_type": "code",
   "execution_count": 17,
   "id": "569fc9d4",
   "metadata": {},
   "outputs": [
    {
     "name": "stdout",
     "output_type": "stream",
     "text": [
      "hello there\n"
     ]
    }
   ],
   "source": [
    "eee = 'hello ' + 'there'\n",
    ">>> print(eee) "
   ]
  },
  {
   "cell_type": "code",
   "execution_count": 39,
   "id": "3f7e3392",
   "metadata": {},
   "outputs": [
    {
     "data": {
      "text/plain": [
       "int"
      ]
     },
     "execution_count": 39,
     "metadata": {},
     "output_type": "execute_result"
    }
   ],
   "source": [
    "# Several Types of Numbers\n",
    "xx = 1\n",
    "type (xx)\n"
   ]
  },
  {
   "cell_type": "code",
   "execution_count": 22,
   "id": "bbfc98e1",
   "metadata": {},
   "outputs": [
    {
     "data": {
      "text/plain": [
       "float"
      ]
     },
     "execution_count": 22,
     "metadata": {},
     "output_type": "execute_result"
    }
   ],
   "source": [
    "temp = 98.6\n",
    ">>> type(temp)\n"
   ]
  },
  {
   "cell_type": "code",
   "execution_count": 34,
   "id": "e025994a",
   "metadata": {},
   "outputs": [
    {
     "name": "stdout",
     "output_type": "stream",
     "text": [
      "199.0\n"
     ]
    }
   ],
   "source": [
    "# types conversions\n",
    "\n",
    "print(float(99) + 100) "
   ]
  },
  {
   "cell_type": "code",
   "execution_count": 24,
   "id": "2c908582",
   "metadata": {},
   "outputs": [
    {
     "data": {
      "text/plain": [
       "int"
      ]
     },
     "execution_count": 24,
     "metadata": {},
     "output_type": "execute_result"
    }
   ],
   "source": [
    "i = 42\n",
    ">>> type(i)\n"
   ]
  },
  {
   "cell_type": "code",
   "execution_count": 25,
   "id": "cb213e72",
   "metadata": {},
   "outputs": [
    {
     "name": "stdout",
     "output_type": "stream",
     "text": [
      "42.0\n"
     ]
    }
   ],
   "source": [
    "f = float(i)\n",
    ">>> print(f) "
   ]
  },
  {
   "cell_type": "code",
   "execution_count": 27,
   "id": "6e08cba2",
   "metadata": {},
   "outputs": [
    {
     "name": "stdout",
     "output_type": "stream",
     "text": [
      "5.0\n",
      "4.5\n",
      "0.99\n",
      "5.0\n",
      "0.99\n"
     ]
    }
   ],
   "source": [
    "# Integer Division\n",
    "print(10\t/\t2)\n",
    "print(9\t/\t2)\n",
    "print(99 / 100) \n",
    "\n",
    "print(10.0\t/\t2.0)\n",
    "\t\t\t\n",
    "print(99.0\t/\t100.0)\n",
    " \n"
   ]
  },
  {
   "cell_type": "code",
   "execution_count": 28,
   "id": "6323488d",
   "metadata": {},
   "outputs": [
    {
     "name": "stdout",
     "output_type": "stream",
     "text": [
      "Who are you? SYEDA RABIA IJAZ\n",
      "Welcome SYEDA RABIA IJAZ\n"
     ]
    }
   ],
   "source": [
    "# User Input# \n",
    "nam = input('Who are you? ')\n",
    "print('Welcome', nam)\n",
    "\n",
    "\n"
   ]
  },
  {
   "cell_type": "code",
   "execution_count": 30,
   "id": "26e14ee2",
   "metadata": {},
   "outputs": [
    {
     "name": "stdout",
     "output_type": "stream",
     "text": [
      "Europe floor?1\n",
      "US floor 2\n"
     ]
    }
   ],
   "source": [
    "# Converting User Input# \n",
    "inp = input('Europe floor?')\n",
    "usf = int(inp) + 1\n",
    "print('US floor', usf)\n",
    "\n"
   ]
  },
  {
   "cell_type": "code",
   "execution_count": 40,
   "id": "5d70350f",
   "metadata": {},
   "outputs": [
    {
     "name": "stdout",
     "output_type": "stream",
     "text": [
      "Enter the number of hours worked: 35\n",
      "Enter the hourly rate: 2.75\n",
      "Gross pay: $96.25\n"
     ]
    }
   ],
   "source": [
    "# Write a program to prompt the user for hours and rate per hour to compute gross pay.\n",
    "\n",
    "# Prompt the user for hours worked and hourly rate\n",
    "hours_worked = float(input(\"Enter the number of hours worked: \"))\n",
    "hourly_rate = float(input(\"Enter the hourly rate: \"))\n",
    "\n",
    "# Calculate the gross pay\n",
    "gross_pay = hours_worked * hourly_rate\n",
    "\n",
    "# Display the result\n",
    "print(f\"Gross pay: ${gross_pay:.2f}\")\n"
   ]
  },
  {
   "cell_type": "code",
   "execution_count": null,
   "id": "f535df09",
   "metadata": {},
   "outputs": [],
   "source": []
  }
 ],
 "metadata": {
  "kernelspec": {
   "display_name": "Python 3 (ipykernel)",
   "language": "python",
   "name": "python3"
  },
  "language_info": {
   "codemirror_mode": {
    "name": "ipython",
    "version": 3
   },
   "file_extension": ".py",
   "mimetype": "text/x-python",
   "name": "python",
   "nbconvert_exporter": "python",
   "pygments_lexer": "ipython3",
   "version": "3.11.4"
  }
 },
 "nbformat": 4,
 "nbformat_minor": 5
}
