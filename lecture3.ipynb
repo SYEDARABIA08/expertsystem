{
 "cells": [
  {
   "cell_type": "code",
   "execution_count": 3,
   "id": "fe1240e4",
   "metadata": {},
   "outputs": [
    {
     "name": "stdout",
     "output_type": "stream",
     "text": [
      "Smaller\n",
      "Finis\n"
     ]
    }
   ],
   "source": [
    "x = 5\n",
    "if x < 10:\n",
    " print('Smaller') \n",
    "if x > 20:\n",
    " print('Bigger')\n",
    "\n",
    "print('Finis')\n"
   ]
  },
  {
   "cell_type": "code",
   "execution_count": 5,
   "id": "b7aa9987",
   "metadata": {},
   "outputs": [
    {
     "name": "stdout",
     "output_type": "stream",
     "text": [
      "Equals 5\n",
      "Greater than 4\n",
      "Greater than or Equals 5\n",
      "Less than 6\n",
      "Less than or Equals 5\n",
      "Not equal 6\n"
     ]
    }
   ],
   "source": [
    "x = 5\n",
    "if x == 5 :\n",
    " print('Equals 5') \n",
    "if x > 4 :\n",
    " print('Greater than 4') \n",
    "if x >= 5 :\n",
    " print('Greater than or Equals 5')\n",
    "if x < 6 : \n",
    "    print('Less than 6')\n",
    "if x <= 5 :\n",
    " print('Less than or Equals 5') \n",
    "if x != 6 :\n",
    " print('Not equal 6')\n"
   ]
  },
  {
   "cell_type": "code",
   "execution_count": 14,
   "id": "7b7d5161",
   "metadata": {},
   "outputs": [
    {
     "name": "stdout",
     "output_type": "stream",
     "text": [
      "Before 5\n",
      "Is 5\n",
      "Is Still 5\n",
      "Third 5\n",
      "Afterwards 5\n",
      "Before 6\n",
      "Afterwards 6\n"
     ]
    }
   ],
   "source": [
    "# One-Way Decisions\n",
    "x = 5\n",
    "print('Before 5') \n",
    "if x == 5 :\n",
    " print('Is 5')\n",
    " print('Is Still 5')\n",
    " print('Third 5')\n",
    "print('Afterwards 5')\n",
    "print('Before 6')\n",
    "if x == 6 :\n",
    " print('Is 6')\n",
    " print('Is Still 6')\n",
    " print('Third 6')\n",
    "print('Afterwards 6')\n"
   ]
  },
  {
   "cell_type": "code",
   "execution_count": 16,
   "id": "74a25983",
   "metadata": {},
   "outputs": [
    {
     "name": "stdout",
     "output_type": "stream",
     "text": [
      "small\n",
      "All done\n"
     ]
    }
   ],
   "source": [
    "Multi-way\n",
    "x = 0\n",
    "if x < 2 :\n",
    " print('small') \n",
    "elif x < 10 :\n",
    " print('Medium') \n",
    "else :\n",
    " print('LARGE') \n",
    "print('All done')\n"
   ]
  },
  {
   "cell_type": "code",
   "execution_count": 20,
   "id": "25f0b32d",
   "metadata": {},
   "outputs": [
    {
     "name": "stdout",
     "output_type": "stream",
     "text": [
      "Hello\n",
      "Done -1\n"
     ]
    }
   ],
   "source": [
    "\n",
    "astr = 'Bob' \n",
    "try:\n",
    " print('Hello') \n",
    " istr = int(astr) \n",
    " print('There')\n",
    "except:\n",
    " istr = -1\n",
    "\n",
    "\n",
    "\n",
    " \n",
    "print('Done', istr)\n"
   ]
  },
  {
   "cell_type": "code",
   "execution_count": 21,
   "id": "7cb69411",
   "metadata": {},
   "outputs": [
    {
     "name": "stdout",
     "output_type": "stream",
     "text": [
      "Enter a number:42\n",
      "Nice work\n"
     ]
    }
   ],
   "source": [
    "rawstr = input('Enter a number:') \n",
    "try:\n",
    " ival = int(rawstr) \n",
    "except:\n",
    " ival = -1\n",
    "\n",
    "if ival > 0 :\n",
    " print('Nice work') \n",
    "else:\n",
    " print('Not a number')\n"
   ]
  },
  {
   "cell_type": "code",
   "execution_count": null,
   "id": "23bb6aae",
   "metadata": {},
   "outputs": [],
   "source": []
  },
  {
   "cell_type": "code",
   "execution_count": null,
   "id": "8c73fd43",
   "metadata": {},
   "outputs": [],
   "source": []
  },
  {
   "cell_type": "code",
   "execution_count": null,
   "id": "593e1e45",
   "metadata": {},
   "outputs": [],
   "source": []
  }
 ],
 "metadata": {
  "kernelspec": {
   "display_name": "Python 3 (ipykernel)",
   "language": "python",
   "name": "python3"
  },
  "language_info": {
   "codemirror_mode": {
    "name": "ipython",
    "version": 3
   },
   "file_extension": ".py",
   "mimetype": "text/x-python",
   "name": "python",
   "nbconvert_exporter": "python",
   "pygments_lexer": "ipython3",
   "version": "3.11.4"
  }
 },
 "nbformat": 4,
 "nbformat_minor": 5
}
