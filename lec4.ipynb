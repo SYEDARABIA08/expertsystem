{
 "cells": [
  {
   "cell_type": "code",
   "execution_count": 2,
   "id": "bcbac0d1",
   "metadata": {},
   "outputs": [
    {
     "name": "stdout",
     "output_type": "stream",
     "text": [
      "Hello\n",
      "Fun\n",
      "Zip\n",
      "Hello\n",
      "Fun\n"
     ]
    }
   ],
   "source": [
    "def thing():\n",
    " print('Hello') \n",
    " print('Fun')\n",
    "\n",
    "thing() \n",
    "print('Zip') \n",
    "thing()\n"
   ]
  },
  {
   "cell_type": "code",
   "execution_count": 21,
   "id": "a933b6d3",
   "metadata": {},
   "outputs": [
    {
     "ename": "SyntaxError",
     "evalue": "invalid character '–' (U+2013) (2266666222.py, line 9)",
     "output_type": "error",
     "traceback": [
      "\u001b[1;36m  Cell \u001b[1;32mIn[21], line 9\u001b[1;36m\u001b[0m\n\u001b[1;33m    print(1 + 2 * float(3) / 4 – 5)\u001b[0m\n\u001b[1;37m                               ^\u001b[0m\n\u001b[1;31mSyntaxError\u001b[0m\u001b[1;31m:\u001b[0m invalid character '–' (U+2013)\n"
     ]
    }
   ],
   "source": [
    "print(float(99) / 100) \n",
    "         \n",
    " \n",
    "class 'int'>\n",
    "f = float(i)\n",
    " print(f) \n",
    " type(f)\n",
    "class 'float'>\n",
    "print(1 + 2 * float(3) / 4 – 5)\n"
   ]
  },
  {
   "cell_type": "code",
   "execution_count": 18,
   "id": "c3909289",
   "metadata": {},
   "outputs": [
    {
     "name": "stdout",
     "output_type": "stream",
     "text": [
      "Hello\n",
      "Yo\n",
      "7\n"
     ]
    }
   ],
   "source": [
    "x = 5 \n",
    "print('Hello')\n",
    "\n",
    "\n",
    " \n",
    "def print_lyrics():\n",
    " print(\"I'm a lumberjack, and I'm okay.\") \n",
    " print('I sleep all night and I work all day.')\n",
    "\n",
    "print('Yo')\n",
    "x = x + 2 \n",
    "print(x)\n",
    " \n"
   ]
  },
  {
   "cell_type": "code",
   "execution_count": 38,
   "id": "b5975ca8",
   "metadata": {},
   "outputs": [],
   "source": [
    "def greet(lang):\n",
    "    if lang == 'es':\n",
    "        print('Hola')\n",
    "    elif lang == 'fr':\n",
    "        print('Bonjour')\n",
    "    else:\n",
    "        print('Hello')\n",
    "    greet('en') \n",
    "    Hello\n",
    "    greet('es') \n",
    "    Hola\n",
    "    greet('fr') \n",
    "    Bonjour\n"
   ]
  },
  {
   "cell_type": "code",
   "execution_count": 39,
   "id": "2222bf02",
   "metadata": {},
   "outputs": [
    {
     "name": "stdout",
     "output_type": "stream",
     "text": [
      "Hello Glenn\n",
      "Hello Sally\n"
     ]
    }
   ],
   "source": [
    "def greet():\n",
    "    return \"Hello\"\n",
    "\n",
    "print(greet(), \"Glenn\")\n",
    "print(greet(), \"Sally\")\n",
    " \n"
   ]
  },
  {
   "cell_type": "code",
   "execution_count": 40,
   "id": "7cb6df92",
   "metadata": {},
   "outputs": [
    {
     "name": "stdout",
     "output_type": "stream",
     "text": [
      "8\n"
     ]
    }
   ],
   "source": [
    "def addtwo(a, b): \n",
    "    added = a + b\n",
    "    return added\n",
    "\n",
    "x = addtwo(3, 5) \n",
    "print(x)\n",
    "\n"
   ]
  },
  {
   "cell_type": "code",
   "execution_count": null,
   "id": "e205e9d8",
   "metadata": {},
   "outputs": [],
   "source": []
  }
 ],
 "metadata": {
  "kernelspec": {
   "display_name": "Python 3 (ipykernel)",
   "language": "python",
   "name": "python3"
  },
  "language_info": {
   "codemirror_mode": {
    "name": "ipython",
    "version": 3
   },
   "file_extension": ".py",
   "mimetype": "text/x-python",
   "name": "python",
   "nbconvert_exporter": "python",
   "pygments_lexer": "ipython3",
   "version": "3.11.4"
  }
 },
 "nbformat": 4,
 "nbformat_minor": 5
}
